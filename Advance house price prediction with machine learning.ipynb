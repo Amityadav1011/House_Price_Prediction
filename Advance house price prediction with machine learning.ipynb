{
 "cells": [
  {
   "cell_type": "markdown",
   "id": "71195b6e",
   "metadata": {},
   "source": [
    "## Project Name: House Prices: Advanced Regression Techniques\n",
    "\n",
    "##### Problem Statement ##############\n",
    "\n",
    "Ask a home buyer to describe their dream house, and they probably won't begin with the height of the basement\n",
    " ceiling or the proximity to an east-west railroad.But this playground competition's dataset proves that \n",
    "much more influences price negotiations than the number of bedrooms or a white-picket fence.\n",
    "\n",
    "With 79 explanatory variables describing (almost) every aspect of residential homes in Ames, Iowa, \n",
    "this competition challenges you to predict the final price of each home.\n",
    "\n",
    "\n",
    "**The main aim of this project is to predict the house price based on various features which we will discuss as we go ahead**\n",
    "\n",
    "#### Dataset to downloaded from the below link\n",
    "https://www.kaggle.com/c/house-prices-advanced-regression-techniques/data"
   ]
  },
  {
   "cell_type": "code",
   "execution_count": null,
   "id": "729fb491",
   "metadata": {},
   "outputs": [],
   "source": []
  },
  {
   "cell_type": "code",
   "execution_count": 1,
   "id": "2315813a",
   "metadata": {},
   "outputs": [],
   "source": [
    "##3 Importing libraries\n",
    "import pandas as pd ## data preprocessing \n",
    "import numpy as np  ## mathmatical calculation\n",
    "import matplotlib.pyplot as plt \n",
    "import seaborn as sns\n",
    "\n",
    "# pd.pandas.set_option('display.max_columns' , None)"
   ]
  },
  {
   "cell_type": "code",
   "execution_count": 2,
   "id": "6961ddef",
   "metadata": {},
   "outputs": [
    {
     "data": {
      "text/html": [
       "<div>\n",
       "<style scoped>\n",
       "    .dataframe tbody tr th:only-of-type {\n",
       "        vertical-align: middle;\n",
       "    }\n",
       "\n",
       "    .dataframe tbody tr th {\n",
       "        vertical-align: top;\n",
       "    }\n",
       "\n",
       "    .dataframe thead th {\n",
       "        text-align: right;\n",
       "    }\n",
       "</style>\n",
       "<table border=\"1\" class=\"dataframe\">\n",
       "  <thead>\n",
       "    <tr style=\"text-align: right;\">\n",
       "      <th></th>\n",
       "      <th>Id</th>\n",
       "      <th>MSSubClass</th>\n",
       "      <th>MSZoning</th>\n",
       "      <th>LotFrontage</th>\n",
       "      <th>LotArea</th>\n",
       "      <th>Street</th>\n",
       "      <th>Alley</th>\n",
       "      <th>LotShape</th>\n",
       "      <th>LandContour</th>\n",
       "      <th>Utilities</th>\n",
       "      <th>...</th>\n",
       "      <th>PoolArea</th>\n",
       "      <th>PoolQC</th>\n",
       "      <th>Fence</th>\n",
       "      <th>MiscFeature</th>\n",
       "      <th>MiscVal</th>\n",
       "      <th>MoSold</th>\n",
       "      <th>YrSold</th>\n",
       "      <th>SaleType</th>\n",
       "      <th>SaleCondition</th>\n",
       "      <th>SalePrice</th>\n",
       "    </tr>\n",
       "  </thead>\n",
       "  <tbody>\n",
       "    <tr>\n",
       "      <th>0</th>\n",
       "      <td>1</td>\n",
       "      <td>60</td>\n",
       "      <td>RL</td>\n",
       "      <td>65.0</td>\n",
       "      <td>8450</td>\n",
       "      <td>Pave</td>\n",
       "      <td>NaN</td>\n",
       "      <td>Reg</td>\n",
       "      <td>Lvl</td>\n",
       "      <td>AllPub</td>\n",
       "      <td>...</td>\n",
       "      <td>0</td>\n",
       "      <td>NaN</td>\n",
       "      <td>NaN</td>\n",
       "      <td>NaN</td>\n",
       "      <td>0</td>\n",
       "      <td>2</td>\n",
       "      <td>2008</td>\n",
       "      <td>WD</td>\n",
       "      <td>Normal</td>\n",
       "      <td>208500.0</td>\n",
       "    </tr>\n",
       "    <tr>\n",
       "      <th>1</th>\n",
       "      <td>2</td>\n",
       "      <td>20</td>\n",
       "      <td>RL</td>\n",
       "      <td>80.0</td>\n",
       "      <td>9600</td>\n",
       "      <td>Pave</td>\n",
       "      <td>NaN</td>\n",
       "      <td>Reg</td>\n",
       "      <td>Lvl</td>\n",
       "      <td>AllPub</td>\n",
       "      <td>...</td>\n",
       "      <td>0</td>\n",
       "      <td>NaN</td>\n",
       "      <td>NaN</td>\n",
       "      <td>NaN</td>\n",
       "      <td>0</td>\n",
       "      <td>5</td>\n",
       "      <td>2007</td>\n",
       "      <td>WD</td>\n",
       "      <td>Normal</td>\n",
       "      <td>181500.0</td>\n",
       "    </tr>\n",
       "    <tr>\n",
       "      <th>2</th>\n",
       "      <td>3</td>\n",
       "      <td>60</td>\n",
       "      <td>RL</td>\n",
       "      <td>68.0</td>\n",
       "      <td>11250</td>\n",
       "      <td>Pave</td>\n",
       "      <td>NaN</td>\n",
       "      <td>IR1</td>\n",
       "      <td>Lvl</td>\n",
       "      <td>AllPub</td>\n",
       "      <td>...</td>\n",
       "      <td>0</td>\n",
       "      <td>NaN</td>\n",
       "      <td>NaN</td>\n",
       "      <td>NaN</td>\n",
       "      <td>0</td>\n",
       "      <td>9</td>\n",
       "      <td>2008</td>\n",
       "      <td>WD</td>\n",
       "      <td>Normal</td>\n",
       "      <td>223500.0</td>\n",
       "    </tr>\n",
       "    <tr>\n",
       "      <th>3</th>\n",
       "      <td>4</td>\n",
       "      <td>70</td>\n",
       "      <td>RL</td>\n",
       "      <td>60.0</td>\n",
       "      <td>9550</td>\n",
       "      <td>Pave</td>\n",
       "      <td>NaN</td>\n",
       "      <td>IR1</td>\n",
       "      <td>Lvl</td>\n",
       "      <td>AllPub</td>\n",
       "      <td>...</td>\n",
       "      <td>0</td>\n",
       "      <td>NaN</td>\n",
       "      <td>NaN</td>\n",
       "      <td>NaN</td>\n",
       "      <td>0</td>\n",
       "      <td>2</td>\n",
       "      <td>2006</td>\n",
       "      <td>WD</td>\n",
       "      <td>Abnorml</td>\n",
       "      <td>140000.0</td>\n",
       "    </tr>\n",
       "    <tr>\n",
       "      <th>4</th>\n",
       "      <td>5</td>\n",
       "      <td>60</td>\n",
       "      <td>RL</td>\n",
       "      <td>84.0</td>\n",
       "      <td>14260</td>\n",
       "      <td>Pave</td>\n",
       "      <td>NaN</td>\n",
       "      <td>IR1</td>\n",
       "      <td>Lvl</td>\n",
       "      <td>AllPub</td>\n",
       "      <td>...</td>\n",
       "      <td>0</td>\n",
       "      <td>NaN</td>\n",
       "      <td>NaN</td>\n",
       "      <td>NaN</td>\n",
       "      <td>0</td>\n",
       "      <td>12</td>\n",
       "      <td>2008</td>\n",
       "      <td>WD</td>\n",
       "      <td>Normal</td>\n",
       "      <td>250000.0</td>\n",
       "    </tr>\n",
       "  </tbody>\n",
       "</table>\n",
       "<p>5 rows × 81 columns</p>\n",
       "</div>"
      ],
      "text/plain": [
       "   Id  MSSubClass MSZoning  LotFrontage  LotArea Street Alley LotShape  \\\n",
       "0   1          60       RL         65.0     8450   Pave   NaN      Reg   \n",
       "1   2          20       RL         80.0     9600   Pave   NaN      Reg   \n",
       "2   3          60       RL         68.0    11250   Pave   NaN      IR1   \n",
       "3   4          70       RL         60.0     9550   Pave   NaN      IR1   \n",
       "4   5          60       RL         84.0    14260   Pave   NaN      IR1   \n",
       "\n",
       "  LandContour Utilities  ... PoolArea PoolQC Fence MiscFeature MiscVal MoSold  \\\n",
       "0         Lvl    AllPub  ...        0    NaN   NaN         NaN       0      2   \n",
       "1         Lvl    AllPub  ...        0    NaN   NaN         NaN       0      5   \n",
       "2         Lvl    AllPub  ...        0    NaN   NaN         NaN       0      9   \n",
       "3         Lvl    AllPub  ...        0    NaN   NaN         NaN       0      2   \n",
       "4         Lvl    AllPub  ...        0    NaN   NaN         NaN       0     12   \n",
       "\n",
       "  YrSold  SaleType  SaleCondition  SalePrice  \n",
       "0   2008        WD         Normal   208500.0  \n",
       "1   2007        WD         Normal   181500.0  \n",
       "2   2008        WD         Normal   223500.0  \n",
       "3   2006        WD        Abnorml   140000.0  \n",
       "4   2008        WD         Normal   250000.0  \n",
       "\n",
       "[5 rows x 81 columns]"
      ]
     },
     "execution_count": 2,
     "metadata": {},
     "output_type": "execute_result"
    }
   ],
   "source": [
    "train = pd.read_csv(\"train.csv\")\n",
    "test = pd.read_csv(\"test.csv\")\n",
    "df_train = pd.concat([train, test])\n",
    "df_train.head()"
   ]
  },
  {
   "cell_type": "code",
   "execution_count": 3,
   "id": "88f295eb",
   "metadata": {},
   "outputs": [
    {
     "data": {
      "text/html": [
       "<div>\n",
       "<style scoped>\n",
       "    .dataframe tbody tr th:only-of-type {\n",
       "        vertical-align: middle;\n",
       "    }\n",
       "\n",
       "    .dataframe tbody tr th {\n",
       "        vertical-align: top;\n",
       "    }\n",
       "\n",
       "    .dataframe thead th {\n",
       "        text-align: right;\n",
       "    }\n",
       "</style>\n",
       "<table border=\"1\" class=\"dataframe\">\n",
       "  <thead>\n",
       "    <tr style=\"text-align: right;\">\n",
       "      <th></th>\n",
       "      <th>Id</th>\n",
       "      <th>MSSubClass</th>\n",
       "      <th>MSZoning</th>\n",
       "      <th>LotFrontage</th>\n",
       "      <th>LotArea</th>\n",
       "      <th>Street</th>\n",
       "      <th>Alley</th>\n",
       "      <th>LotShape</th>\n",
       "      <th>LandContour</th>\n",
       "      <th>Utilities</th>\n",
       "      <th>...</th>\n",
       "      <th>PoolArea</th>\n",
       "      <th>PoolQC</th>\n",
       "      <th>Fence</th>\n",
       "      <th>MiscFeature</th>\n",
       "      <th>MiscVal</th>\n",
       "      <th>MoSold</th>\n",
       "      <th>YrSold</th>\n",
       "      <th>SaleType</th>\n",
       "      <th>SaleCondition</th>\n",
       "      <th>SalePrice</th>\n",
       "    </tr>\n",
       "  </thead>\n",
       "  <tbody>\n",
       "    <tr>\n",
       "      <th>1454</th>\n",
       "      <td>2915</td>\n",
       "      <td>160</td>\n",
       "      <td>RM</td>\n",
       "      <td>21.0</td>\n",
       "      <td>1936</td>\n",
       "      <td>Pave</td>\n",
       "      <td>NaN</td>\n",
       "      <td>Reg</td>\n",
       "      <td>Lvl</td>\n",
       "      <td>AllPub</td>\n",
       "      <td>...</td>\n",
       "      <td>0</td>\n",
       "      <td>NaN</td>\n",
       "      <td>NaN</td>\n",
       "      <td>NaN</td>\n",
       "      <td>0</td>\n",
       "      <td>6</td>\n",
       "      <td>2006</td>\n",
       "      <td>WD</td>\n",
       "      <td>Normal</td>\n",
       "      <td>NaN</td>\n",
       "    </tr>\n",
       "    <tr>\n",
       "      <th>1455</th>\n",
       "      <td>2916</td>\n",
       "      <td>160</td>\n",
       "      <td>RM</td>\n",
       "      <td>21.0</td>\n",
       "      <td>1894</td>\n",
       "      <td>Pave</td>\n",
       "      <td>NaN</td>\n",
       "      <td>Reg</td>\n",
       "      <td>Lvl</td>\n",
       "      <td>AllPub</td>\n",
       "      <td>...</td>\n",
       "      <td>0</td>\n",
       "      <td>NaN</td>\n",
       "      <td>NaN</td>\n",
       "      <td>NaN</td>\n",
       "      <td>0</td>\n",
       "      <td>4</td>\n",
       "      <td>2006</td>\n",
       "      <td>WD</td>\n",
       "      <td>Abnorml</td>\n",
       "      <td>NaN</td>\n",
       "    </tr>\n",
       "    <tr>\n",
       "      <th>1456</th>\n",
       "      <td>2917</td>\n",
       "      <td>20</td>\n",
       "      <td>RL</td>\n",
       "      <td>160.0</td>\n",
       "      <td>20000</td>\n",
       "      <td>Pave</td>\n",
       "      <td>NaN</td>\n",
       "      <td>Reg</td>\n",
       "      <td>Lvl</td>\n",
       "      <td>AllPub</td>\n",
       "      <td>...</td>\n",
       "      <td>0</td>\n",
       "      <td>NaN</td>\n",
       "      <td>NaN</td>\n",
       "      <td>NaN</td>\n",
       "      <td>0</td>\n",
       "      <td>9</td>\n",
       "      <td>2006</td>\n",
       "      <td>WD</td>\n",
       "      <td>Abnorml</td>\n",
       "      <td>NaN</td>\n",
       "    </tr>\n",
       "    <tr>\n",
       "      <th>1457</th>\n",
       "      <td>2918</td>\n",
       "      <td>85</td>\n",
       "      <td>RL</td>\n",
       "      <td>62.0</td>\n",
       "      <td>10441</td>\n",
       "      <td>Pave</td>\n",
       "      <td>NaN</td>\n",
       "      <td>Reg</td>\n",
       "      <td>Lvl</td>\n",
       "      <td>AllPub</td>\n",
       "      <td>...</td>\n",
       "      <td>0</td>\n",
       "      <td>NaN</td>\n",
       "      <td>MnPrv</td>\n",
       "      <td>Shed</td>\n",
       "      <td>700</td>\n",
       "      <td>7</td>\n",
       "      <td>2006</td>\n",
       "      <td>WD</td>\n",
       "      <td>Normal</td>\n",
       "      <td>NaN</td>\n",
       "    </tr>\n",
       "    <tr>\n",
       "      <th>1458</th>\n",
       "      <td>2919</td>\n",
       "      <td>60</td>\n",
       "      <td>RL</td>\n",
       "      <td>74.0</td>\n",
       "      <td>9627</td>\n",
       "      <td>Pave</td>\n",
       "      <td>NaN</td>\n",
       "      <td>Reg</td>\n",
       "      <td>Lvl</td>\n",
       "      <td>AllPub</td>\n",
       "      <td>...</td>\n",
       "      <td>0</td>\n",
       "      <td>NaN</td>\n",
       "      <td>NaN</td>\n",
       "      <td>NaN</td>\n",
       "      <td>0</td>\n",
       "      <td>11</td>\n",
       "      <td>2006</td>\n",
       "      <td>WD</td>\n",
       "      <td>Normal</td>\n",
       "      <td>NaN</td>\n",
       "    </tr>\n",
       "  </tbody>\n",
       "</table>\n",
       "<p>5 rows × 81 columns</p>\n",
       "</div>"
      ],
      "text/plain": [
       "        Id  MSSubClass MSZoning  LotFrontage  LotArea Street Alley LotShape  \\\n",
       "1454  2915         160       RM         21.0     1936   Pave   NaN      Reg   \n",
       "1455  2916         160       RM         21.0     1894   Pave   NaN      Reg   \n",
       "1456  2917          20       RL        160.0    20000   Pave   NaN      Reg   \n",
       "1457  2918          85       RL         62.0    10441   Pave   NaN      Reg   \n",
       "1458  2919          60       RL         74.0     9627   Pave   NaN      Reg   \n",
       "\n",
       "     LandContour Utilities  ... PoolArea PoolQC  Fence MiscFeature MiscVal  \\\n",
       "1454         Lvl    AllPub  ...        0    NaN    NaN         NaN       0   \n",
       "1455         Lvl    AllPub  ...        0    NaN    NaN         NaN       0   \n",
       "1456         Lvl    AllPub  ...        0    NaN    NaN         NaN       0   \n",
       "1457         Lvl    AllPub  ...        0    NaN  MnPrv        Shed     700   \n",
       "1458         Lvl    AllPub  ...        0    NaN    NaN         NaN       0   \n",
       "\n",
       "     MoSold YrSold  SaleType  SaleCondition  SalePrice  \n",
       "1454      6   2006        WD         Normal        NaN  \n",
       "1455      4   2006        WD        Abnorml        NaN  \n",
       "1456      9   2006        WD        Abnorml        NaN  \n",
       "1457      7   2006        WD         Normal        NaN  \n",
       "1458     11   2006        WD         Normal        NaN  \n",
       "\n",
       "[5 rows x 81 columns]"
      ]
     },
     "execution_count": 3,
     "metadata": {},
     "output_type": "execute_result"
    }
   ],
   "source": [
    "df_train.tail()"
   ]
  },
  {
   "cell_type": "code",
   "execution_count": 4,
   "id": "b8faf282",
   "metadata": {
    "scrolled": true
   },
   "outputs": [
    {
     "data": {
      "text/plain": [
       "(2919, 81)"
      ]
     },
     "execution_count": 4,
     "metadata": {},
     "output_type": "execute_result"
    }
   ],
   "source": [
    "df_train.shape"
   ]
  },
  {
   "cell_type": "code",
   "execution_count": 5,
   "id": "e9895d69",
   "metadata": {},
   "outputs": [
    {
     "data": {
      "text/plain": [
       "(1460, 81)"
      ]
     },
     "execution_count": 5,
     "metadata": {},
     "output_type": "execute_result"
    }
   ],
   "source": [
    "train.shape"
   ]
  },
  {
   "cell_type": "code",
   "execution_count": 6,
   "id": "0ddafeaa",
   "metadata": {},
   "outputs": [
    {
     "data": {
      "text/plain": [
       "(1459, 80)"
      ]
     },
     "execution_count": 6,
     "metadata": {},
     "output_type": "execute_result"
    }
   ],
   "source": [
    "test.shape"
   ]
  },
  {
   "cell_type": "markdown",
   "id": "1f5279d9",
   "metadata": {},
   "source": [
    "## EDA and Feature Engineering"
   ]
  },
  {
   "cell_type": "code",
   "execution_count": 7,
   "id": "ffed1d58",
   "metadata": {},
   "outputs": [
    {
     "name": "stdout",
     "output_type": "stream",
     "text": [
      "0       False\n",
      "1       False\n",
      "2       False\n",
      "3       False\n",
      "4       False\n",
      "        ...  \n",
      "1454    False\n",
      "1455    False\n",
      "1456    False\n",
      "1457    False\n",
      "1458    False\n",
      "Length: 2919, dtype: bool\n"
     ]
    }
   ],
   "source": [
    "duplicate = df_train.duplicated()\n",
    "print(duplicate)"
   ]
  },
  {
   "cell_type": "code",
   "execution_count": 8,
   "id": "ecf1d0a8",
   "metadata": {
    "scrolled": false
   },
   "outputs": [
    {
     "name": "stdout",
     "output_type": "stream",
     "text": [
      "<class 'pandas.core.frame.DataFrame'>\n",
      "Int64Index: 2919 entries, 0 to 1458\n",
      "Data columns (total 81 columns):\n",
      " #   Column         Non-Null Count  Dtype  \n",
      "---  ------         --------------  -----  \n",
      " 0   Id             2919 non-null   int64  \n",
      " 1   MSSubClass     2919 non-null   int64  \n",
      " 2   MSZoning       2915 non-null   object \n",
      " 3   LotFrontage    2433 non-null   float64\n",
      " 4   LotArea        2919 non-null   int64  \n",
      " 5   Street         2919 non-null   object \n",
      " 6   Alley          198 non-null    object \n",
      " 7   LotShape       2919 non-null   object \n",
      " 8   LandContour    2919 non-null   object \n",
      " 9   Utilities      2917 non-null   object \n",
      " 10  LotConfig      2919 non-null   object \n",
      " 11  LandSlope      2919 non-null   object \n",
      " 12  Neighborhood   2919 non-null   object \n",
      " 13  Condition1     2919 non-null   object \n",
      " 14  Condition2     2919 non-null   object \n",
      " 15  BldgType       2919 non-null   object \n",
      " 16  HouseStyle     2919 non-null   object \n",
      " 17  OverallQual    2919 non-null   int64  \n",
      " 18  OverallCond    2919 non-null   int64  \n",
      " 19  YearBuilt      2919 non-null   int64  \n",
      " 20  YearRemodAdd   2919 non-null   int64  \n",
      " 21  RoofStyle      2919 non-null   object \n",
      " 22  RoofMatl       2919 non-null   object \n",
      " 23  Exterior1st    2918 non-null   object \n",
      " 24  Exterior2nd    2918 non-null   object \n",
      " 25  MasVnrType     2895 non-null   object \n",
      " 26  MasVnrArea     2896 non-null   float64\n",
      " 27  ExterQual      2919 non-null   object \n",
      " 28  ExterCond      2919 non-null   object \n",
      " 29  Foundation     2919 non-null   object \n",
      " 30  BsmtQual       2838 non-null   object \n",
      " 31  BsmtCond       2837 non-null   object \n",
      " 32  BsmtExposure   2837 non-null   object \n",
      " 33  BsmtFinType1   2840 non-null   object \n",
      " 34  BsmtFinSF1     2918 non-null   float64\n",
      " 35  BsmtFinType2   2839 non-null   object \n",
      " 36  BsmtFinSF2     2918 non-null   float64\n",
      " 37  BsmtUnfSF      2918 non-null   float64\n",
      " 38  TotalBsmtSF    2918 non-null   float64\n",
      " 39  Heating        2919 non-null   object \n",
      " 40  HeatingQC      2919 non-null   object \n",
      " 41  CentralAir     2919 non-null   object \n",
      " 42  Electrical     2918 non-null   object \n",
      " 43  1stFlrSF       2919 non-null   int64  \n",
      " 44  2ndFlrSF       2919 non-null   int64  \n",
      " 45  LowQualFinSF   2919 non-null   int64  \n",
      " 46  GrLivArea      2919 non-null   int64  \n",
      " 47  BsmtFullBath   2917 non-null   float64\n",
      " 48  BsmtHalfBath   2917 non-null   float64\n",
      " 49  FullBath       2919 non-null   int64  \n",
      " 50  HalfBath       2919 non-null   int64  \n",
      " 51  BedroomAbvGr   2919 non-null   int64  \n",
      " 52  KitchenAbvGr   2919 non-null   int64  \n",
      " 53  KitchenQual    2918 non-null   object \n",
      " 54  TotRmsAbvGrd   2919 non-null   int64  \n",
      " 55  Functional     2917 non-null   object \n",
      " 56  Fireplaces     2919 non-null   int64  \n",
      " 57  FireplaceQu    1499 non-null   object \n",
      " 58  GarageType     2762 non-null   object \n",
      " 59  GarageYrBlt    2760 non-null   float64\n",
      " 60  GarageFinish   2760 non-null   object \n",
      " 61  GarageCars     2918 non-null   float64\n",
      " 62  GarageArea     2918 non-null   float64\n",
      " 63  GarageQual     2760 non-null   object \n",
      " 64  GarageCond     2760 non-null   object \n",
      " 65  PavedDrive     2919 non-null   object \n",
      " 66  WoodDeckSF     2919 non-null   int64  \n",
      " 67  OpenPorchSF    2919 non-null   int64  \n",
      " 68  EnclosedPorch  2919 non-null   int64  \n",
      " 69  3SsnPorch      2919 non-null   int64  \n",
      " 70  ScreenPorch    2919 non-null   int64  \n",
      " 71  PoolArea       2919 non-null   int64  \n",
      " 72  PoolQC         10 non-null     object \n",
      " 73  Fence          571 non-null    object \n",
      " 74  MiscFeature    105 non-null    object \n",
      " 75  MiscVal        2919 non-null   int64  \n",
      " 76  MoSold         2919 non-null   int64  \n",
      " 77  YrSold         2919 non-null   int64  \n",
      " 78  SaleType       2918 non-null   object \n",
      " 79  SaleCondition  2919 non-null   object \n",
      " 80  SalePrice      1460 non-null   float64\n",
      "dtypes: float64(12), int64(26), object(43)\n",
      "memory usage: 1.8+ MB\n"
     ]
    }
   ],
   "source": [
    "df_train.info()"
   ]
  },
  {
   "cell_type": "code",
   "execution_count": 9,
   "id": "9346c800",
   "metadata": {},
   "outputs": [
    {
     "data": {
      "text/html": [
       "<div>\n",
       "<style scoped>\n",
       "    .dataframe tbody tr th:only-of-type {\n",
       "        vertical-align: middle;\n",
       "    }\n",
       "\n",
       "    .dataframe tbody tr th {\n",
       "        vertical-align: top;\n",
       "    }\n",
       "\n",
       "    .dataframe thead th {\n",
       "        text-align: right;\n",
       "    }\n",
       "</style>\n",
       "<table border=\"1\" class=\"dataframe\">\n",
       "  <thead>\n",
       "    <tr style=\"text-align: right;\">\n",
       "      <th></th>\n",
       "      <th>Id</th>\n",
       "      <th>MSSubClass</th>\n",
       "      <th>LotFrontage</th>\n",
       "      <th>LotArea</th>\n",
       "      <th>OverallQual</th>\n",
       "      <th>OverallCond</th>\n",
       "      <th>YearBuilt</th>\n",
       "      <th>YearRemodAdd</th>\n",
       "      <th>MasVnrArea</th>\n",
       "      <th>BsmtFinSF1</th>\n",
       "      <th>...</th>\n",
       "      <th>WoodDeckSF</th>\n",
       "      <th>OpenPorchSF</th>\n",
       "      <th>EnclosedPorch</th>\n",
       "      <th>3SsnPorch</th>\n",
       "      <th>ScreenPorch</th>\n",
       "      <th>PoolArea</th>\n",
       "      <th>MiscVal</th>\n",
       "      <th>MoSold</th>\n",
       "      <th>YrSold</th>\n",
       "      <th>SalePrice</th>\n",
       "    </tr>\n",
       "  </thead>\n",
       "  <tbody>\n",
       "    <tr>\n",
       "      <th>count</th>\n",
       "      <td>2919.000000</td>\n",
       "      <td>2919.000000</td>\n",
       "      <td>2433.000000</td>\n",
       "      <td>2919.000000</td>\n",
       "      <td>2919.000000</td>\n",
       "      <td>2919.000000</td>\n",
       "      <td>2919.000000</td>\n",
       "      <td>2919.000000</td>\n",
       "      <td>2896.000000</td>\n",
       "      <td>2918.000000</td>\n",
       "      <td>...</td>\n",
       "      <td>2919.000000</td>\n",
       "      <td>2919.000000</td>\n",
       "      <td>2919.000000</td>\n",
       "      <td>2919.000000</td>\n",
       "      <td>2919.000000</td>\n",
       "      <td>2919.000000</td>\n",
       "      <td>2919.000000</td>\n",
       "      <td>2919.000000</td>\n",
       "      <td>2919.000000</td>\n",
       "      <td>1460.000000</td>\n",
       "    </tr>\n",
       "    <tr>\n",
       "      <th>mean</th>\n",
       "      <td>1460.000000</td>\n",
       "      <td>57.137718</td>\n",
       "      <td>69.305795</td>\n",
       "      <td>10168.114080</td>\n",
       "      <td>6.089072</td>\n",
       "      <td>5.564577</td>\n",
       "      <td>1971.312778</td>\n",
       "      <td>1984.264474</td>\n",
       "      <td>102.201312</td>\n",
       "      <td>441.423235</td>\n",
       "      <td>...</td>\n",
       "      <td>93.709832</td>\n",
       "      <td>47.486811</td>\n",
       "      <td>23.098321</td>\n",
       "      <td>2.602261</td>\n",
       "      <td>16.062350</td>\n",
       "      <td>2.251799</td>\n",
       "      <td>50.825968</td>\n",
       "      <td>6.213087</td>\n",
       "      <td>2007.792737</td>\n",
       "      <td>180921.195890</td>\n",
       "    </tr>\n",
       "    <tr>\n",
       "      <th>std</th>\n",
       "      <td>842.787043</td>\n",
       "      <td>42.517628</td>\n",
       "      <td>23.344905</td>\n",
       "      <td>7886.996359</td>\n",
       "      <td>1.409947</td>\n",
       "      <td>1.113131</td>\n",
       "      <td>30.291442</td>\n",
       "      <td>20.894344</td>\n",
       "      <td>179.334253</td>\n",
       "      <td>455.610826</td>\n",
       "      <td>...</td>\n",
       "      <td>126.526589</td>\n",
       "      <td>67.575493</td>\n",
       "      <td>64.244246</td>\n",
       "      <td>25.188169</td>\n",
       "      <td>56.184365</td>\n",
       "      <td>35.663946</td>\n",
       "      <td>567.402211</td>\n",
       "      <td>2.714762</td>\n",
       "      <td>1.314964</td>\n",
       "      <td>79442.502883</td>\n",
       "    </tr>\n",
       "    <tr>\n",
       "      <th>min</th>\n",
       "      <td>1.000000</td>\n",
       "      <td>20.000000</td>\n",
       "      <td>21.000000</td>\n",
       "      <td>1300.000000</td>\n",
       "      <td>1.000000</td>\n",
       "      <td>1.000000</td>\n",
       "      <td>1872.000000</td>\n",
       "      <td>1950.000000</td>\n",
       "      <td>0.000000</td>\n",
       "      <td>0.000000</td>\n",
       "      <td>...</td>\n",
       "      <td>0.000000</td>\n",
       "      <td>0.000000</td>\n",
       "      <td>0.000000</td>\n",
       "      <td>0.000000</td>\n",
       "      <td>0.000000</td>\n",
       "      <td>0.000000</td>\n",
       "      <td>0.000000</td>\n",
       "      <td>1.000000</td>\n",
       "      <td>2006.000000</td>\n",
       "      <td>34900.000000</td>\n",
       "    </tr>\n",
       "    <tr>\n",
       "      <th>25%</th>\n",
       "      <td>730.500000</td>\n",
       "      <td>20.000000</td>\n",
       "      <td>59.000000</td>\n",
       "      <td>7478.000000</td>\n",
       "      <td>5.000000</td>\n",
       "      <td>5.000000</td>\n",
       "      <td>1953.500000</td>\n",
       "      <td>1965.000000</td>\n",
       "      <td>0.000000</td>\n",
       "      <td>0.000000</td>\n",
       "      <td>...</td>\n",
       "      <td>0.000000</td>\n",
       "      <td>0.000000</td>\n",
       "      <td>0.000000</td>\n",
       "      <td>0.000000</td>\n",
       "      <td>0.000000</td>\n",
       "      <td>0.000000</td>\n",
       "      <td>0.000000</td>\n",
       "      <td>4.000000</td>\n",
       "      <td>2007.000000</td>\n",
       "      <td>129975.000000</td>\n",
       "    </tr>\n",
       "    <tr>\n",
       "      <th>50%</th>\n",
       "      <td>1460.000000</td>\n",
       "      <td>50.000000</td>\n",
       "      <td>68.000000</td>\n",
       "      <td>9453.000000</td>\n",
       "      <td>6.000000</td>\n",
       "      <td>5.000000</td>\n",
       "      <td>1973.000000</td>\n",
       "      <td>1993.000000</td>\n",
       "      <td>0.000000</td>\n",
       "      <td>368.500000</td>\n",
       "      <td>...</td>\n",
       "      <td>0.000000</td>\n",
       "      <td>26.000000</td>\n",
       "      <td>0.000000</td>\n",
       "      <td>0.000000</td>\n",
       "      <td>0.000000</td>\n",
       "      <td>0.000000</td>\n",
       "      <td>0.000000</td>\n",
       "      <td>6.000000</td>\n",
       "      <td>2008.000000</td>\n",
       "      <td>163000.000000</td>\n",
       "    </tr>\n",
       "    <tr>\n",
       "      <th>75%</th>\n",
       "      <td>2189.500000</td>\n",
       "      <td>70.000000</td>\n",
       "      <td>80.000000</td>\n",
       "      <td>11570.000000</td>\n",
       "      <td>7.000000</td>\n",
       "      <td>6.000000</td>\n",
       "      <td>2001.000000</td>\n",
       "      <td>2004.000000</td>\n",
       "      <td>164.000000</td>\n",
       "      <td>733.000000</td>\n",
       "      <td>...</td>\n",
       "      <td>168.000000</td>\n",
       "      <td>70.000000</td>\n",
       "      <td>0.000000</td>\n",
       "      <td>0.000000</td>\n",
       "      <td>0.000000</td>\n",
       "      <td>0.000000</td>\n",
       "      <td>0.000000</td>\n",
       "      <td>8.000000</td>\n",
       "      <td>2009.000000</td>\n",
       "      <td>214000.000000</td>\n",
       "    </tr>\n",
       "    <tr>\n",
       "      <th>max</th>\n",
       "      <td>2919.000000</td>\n",
       "      <td>190.000000</td>\n",
       "      <td>313.000000</td>\n",
       "      <td>215245.000000</td>\n",
       "      <td>10.000000</td>\n",
       "      <td>9.000000</td>\n",
       "      <td>2010.000000</td>\n",
       "      <td>2010.000000</td>\n",
       "      <td>1600.000000</td>\n",
       "      <td>5644.000000</td>\n",
       "      <td>...</td>\n",
       "      <td>1424.000000</td>\n",
       "      <td>742.000000</td>\n",
       "      <td>1012.000000</td>\n",
       "      <td>508.000000</td>\n",
       "      <td>576.000000</td>\n",
       "      <td>800.000000</td>\n",
       "      <td>17000.000000</td>\n",
       "      <td>12.000000</td>\n",
       "      <td>2010.000000</td>\n",
       "      <td>755000.000000</td>\n",
       "    </tr>\n",
       "  </tbody>\n",
       "</table>\n",
       "<p>8 rows × 38 columns</p>\n",
       "</div>"
      ],
      "text/plain": [
       "                Id   MSSubClass  LotFrontage        LotArea  OverallQual  \\\n",
       "count  2919.000000  2919.000000  2433.000000    2919.000000  2919.000000   \n",
       "mean   1460.000000    57.137718    69.305795   10168.114080     6.089072   \n",
       "std     842.787043    42.517628    23.344905    7886.996359     1.409947   \n",
       "min       1.000000    20.000000    21.000000    1300.000000     1.000000   \n",
       "25%     730.500000    20.000000    59.000000    7478.000000     5.000000   \n",
       "50%    1460.000000    50.000000    68.000000    9453.000000     6.000000   \n",
       "75%    2189.500000    70.000000    80.000000   11570.000000     7.000000   \n",
       "max    2919.000000   190.000000   313.000000  215245.000000    10.000000   \n",
       "\n",
       "       OverallCond    YearBuilt  YearRemodAdd   MasVnrArea   BsmtFinSF1  ...  \\\n",
       "count  2919.000000  2919.000000   2919.000000  2896.000000  2918.000000  ...   \n",
       "mean      5.564577  1971.312778   1984.264474   102.201312   441.423235  ...   \n",
       "std       1.113131    30.291442     20.894344   179.334253   455.610826  ...   \n",
       "min       1.000000  1872.000000   1950.000000     0.000000     0.000000  ...   \n",
       "25%       5.000000  1953.500000   1965.000000     0.000000     0.000000  ...   \n",
       "50%       5.000000  1973.000000   1993.000000     0.000000   368.500000  ...   \n",
       "75%       6.000000  2001.000000   2004.000000   164.000000   733.000000  ...   \n",
       "max       9.000000  2010.000000   2010.000000  1600.000000  5644.000000  ...   \n",
       "\n",
       "        WoodDeckSF  OpenPorchSF  EnclosedPorch    3SsnPorch  ScreenPorch  \\\n",
       "count  2919.000000  2919.000000    2919.000000  2919.000000  2919.000000   \n",
       "mean     93.709832    47.486811      23.098321     2.602261    16.062350   \n",
       "std     126.526589    67.575493      64.244246    25.188169    56.184365   \n",
       "min       0.000000     0.000000       0.000000     0.000000     0.000000   \n",
       "25%       0.000000     0.000000       0.000000     0.000000     0.000000   \n",
       "50%       0.000000    26.000000       0.000000     0.000000     0.000000   \n",
       "75%     168.000000    70.000000       0.000000     0.000000     0.000000   \n",
       "max    1424.000000   742.000000    1012.000000   508.000000   576.000000   \n",
       "\n",
       "          PoolArea       MiscVal       MoSold       YrSold      SalePrice  \n",
       "count  2919.000000   2919.000000  2919.000000  2919.000000    1460.000000  \n",
       "mean      2.251799     50.825968     6.213087  2007.792737  180921.195890  \n",
       "std      35.663946    567.402211     2.714762     1.314964   79442.502883  \n",
       "min       0.000000      0.000000     1.000000  2006.000000   34900.000000  \n",
       "25%       0.000000      0.000000     4.000000  2007.000000  129975.000000  \n",
       "50%       0.000000      0.000000     6.000000  2008.000000  163000.000000  \n",
       "75%       0.000000      0.000000     8.000000  2009.000000  214000.000000  \n",
       "max     800.000000  17000.000000    12.000000  2010.000000  755000.000000  \n",
       "\n",
       "[8 rows x 38 columns]"
      ]
     },
     "execution_count": 9,
     "metadata": {},
     "output_type": "execute_result"
    }
   ],
   "source": [
    "df_train.describe()"
   ]
  },
  {
   "cell_type": "markdown",
   "id": "4479193b",
   "metadata": {},
   "source": [
    "### Handling numerical  Missing values"
   ]
  },
  {
   "cell_type": "markdown",
   "id": "ed958cbe",
   "metadata": {},
   "source": [
    "**1. For Continious**"
   ]
  },
  {
   "cell_type": "code",
   "execution_count": 10,
   "id": "ef6f7ca3",
   "metadata": {
    "scrolled": true
   },
   "outputs": [],
   "source": [
    "# missing_values_continious = [feature for feature in df_train.columns if df_train[feature].dtype != \"O\" and len(df_train[feature].unique()) >20 and df_train[feature].isnull().sum()>0]\n",
    "# missing_values_continious"
   ]
  },
  {
   "cell_type": "code",
   "execution_count": 11,
   "id": "ee5d481f",
   "metadata": {},
   "outputs": [
    {
     "data": {
      "text/plain": [
       "129"
      ]
     },
     "execution_count": 11,
     "metadata": {},
     "output_type": "execute_result"
    }
   ],
   "source": [
    "len(df_train[\"LotFrontage\"].unique())"
   ]
  },
  {
   "cell_type": "code",
   "execution_count": 12,
   "id": "9fdf2604",
   "metadata": {},
   "outputs": [
    {
     "data": {
      "text/plain": [
       "['Id',\n",
       " 'LotFrontage',\n",
       " 'LotArea',\n",
       " 'YearBuilt',\n",
       " 'YearRemodAdd',\n",
       " 'MasVnrArea',\n",
       " 'BsmtFinSF1',\n",
       " 'BsmtFinSF2',\n",
       " 'BsmtUnfSF',\n",
       " 'TotalBsmtSF',\n",
       " '1stFlrSF',\n",
       " '2ndFlrSF',\n",
       " 'LowQualFinSF',\n",
       " 'GrLivArea',\n",
       " 'GarageYrBlt',\n",
       " 'GarageArea',\n",
       " 'WoodDeckSF',\n",
       " 'OpenPorchSF',\n",
       " 'EnclosedPorch',\n",
       " '3SsnPorch',\n",
       " 'ScreenPorch',\n",
       " 'MiscVal',\n",
       " 'SalePrice']"
      ]
     },
     "execution_count": 12,
     "metadata": {},
     "output_type": "execute_result"
    }
   ],
   "source": [
    "missing_values_continious = []\n",
    "for feature in df_train.columns:\n",
    "    if df_train[feature].dtype != \"object\" and len(df_train[feature].unique())>20:\n",
    "        missing_values_continious.append(feature)\n",
    "missing_values_continious    "
   ]
  },
  {
   "cell_type": "code",
   "execution_count": 13,
   "id": "d90e9db2",
   "metadata": {},
   "outputs": [
    {
     "data": {
      "text/plain": [
       "Id                  0\n",
       "MSSubClass          0\n",
       "MSZoning            4\n",
       "LotFrontage       486\n",
       "LotArea             0\n",
       "                 ... \n",
       "MoSold              0\n",
       "YrSold              0\n",
       "SaleType            1\n",
       "SaleCondition       0\n",
       "SalePrice        1459\n",
       "Length: 81, dtype: int64"
      ]
     },
     "execution_count": 13,
     "metadata": {},
     "output_type": "execute_result"
    }
   ],
   "source": [
    "df_train.isnull().sum()"
   ]
  },
  {
   "cell_type": "code",
   "execution_count": 14,
   "id": "f8842cda",
   "metadata": {},
   "outputs": [
    {
     "name": "stdout",
     "output_type": "stream",
     "text": [
      "Id 0.0\n",
      "LotFrontage 17.0\n",
      "LotArea 0.0\n",
      "YearBuilt 0.0\n",
      "YearRemodAdd 0.0\n",
      "MasVnrArea 1.0\n",
      "BsmtFinSF1 0.0\n",
      "BsmtFinSF2 0.0\n",
      "BsmtUnfSF 0.0\n",
      "TotalBsmtSF 0.0\n",
      "1stFlrSF 0.0\n",
      "2ndFlrSF 0.0\n",
      "LowQualFinSF 0.0\n",
      "GrLivArea 0.0\n",
      "GarageYrBlt 5.0\n",
      "GarageArea 0.0\n",
      "WoodDeckSF 0.0\n",
      "OpenPorchSF 0.0\n",
      "EnclosedPorch 0.0\n",
      "3SsnPorch 0.0\n",
      "ScreenPorch 0.0\n",
      "MiscVal 0.0\n",
      "SalePrice 50.0\n"
     ]
    }
   ],
   "source": [
    "for feature in missing_values_continious:\n",
    "    print(feature, round(df_train[feature].isnull().mean() , 2) * 100)"
   ]
  },
  {
   "cell_type": "code",
   "execution_count": null,
   "id": "9125ffd2",
   "metadata": {},
   "outputs": [],
   "source": []
  },
  {
   "cell_type": "code",
   "execution_count": null,
   "id": "7c0c00ec",
   "metadata": {},
   "outputs": [],
   "source": []
  },
  {
   "cell_type": "code",
   "execution_count": 15,
   "id": "d0ecd33e",
   "metadata": {},
   "outputs": [],
   "source": [
    "median_value = df_train[\"GarageYrBlt\"].median()"
   ]
  },
  {
   "cell_type": "code",
   "execution_count": 16,
   "id": "037a532e",
   "metadata": {},
   "outputs": [
    {
     "data": {
      "text/plain": [
       "1979.0"
      ]
     },
     "execution_count": 16,
     "metadata": {},
     "output_type": "execute_result"
    }
   ],
   "source": [
    "median_value"
   ]
  },
  {
   "cell_type": "code",
   "execution_count": 17,
   "id": "d9900436",
   "metadata": {},
   "outputs": [],
   "source": [
    "for feature in missing_values_continious:\n",
    "    if feature == \"SalePrice\":\n",
    "        pass\n",
    "    else:        \n",
    "        median_value = df_train[feature].median()\n",
    "        df_train[feature].fillna(median_value,inplace=True)    "
   ]
  },
  {
   "cell_type": "code",
   "execution_count": 18,
   "id": "95ed3ecc",
   "metadata": {},
   "outputs": [
    {
     "name": "stdout",
     "output_type": "stream",
     "text": [
      "Id 0.0\n",
      "LotFrontage 0.0\n",
      "LotArea 0.0\n",
      "YearBuilt 0.0\n",
      "YearRemodAdd 0.0\n",
      "MasVnrArea 0.0\n",
      "BsmtFinSF1 0.0\n",
      "BsmtFinSF2 0.0\n",
      "BsmtUnfSF 0.0\n",
      "TotalBsmtSF 0.0\n",
      "1stFlrSF 0.0\n",
      "2ndFlrSF 0.0\n",
      "LowQualFinSF 0.0\n",
      "GrLivArea 0.0\n",
      "GarageYrBlt 0.0\n",
      "GarageArea 0.0\n",
      "WoodDeckSF 0.0\n",
      "OpenPorchSF 0.0\n",
      "EnclosedPorch 0.0\n",
      "3SsnPorch 0.0\n",
      "ScreenPorch 0.0\n",
      "MiscVal 0.0\n",
      "SalePrice 49.980000000000004\n"
     ]
    }
   ],
   "source": [
    "for feature in missing_values_continious:\n",
    "    print(feature, round(df_train[feature].isnull().mean(),4)*100)"
   ]
  },
  {
   "cell_type": "code",
   "execution_count": 19,
   "id": "4a49b9fd",
   "metadata": {},
   "outputs": [],
   "source": [
    "df_train.drop(\"Id\" , inplace=True , axis = 1)"
   ]
  },
  {
   "cell_type": "markdown",
   "id": "f4d196d7",
   "metadata": {},
   "source": [
    "**2. For Descrete**"
   ]
  },
  {
   "cell_type": "code",
   "execution_count": 20,
   "id": "ce4f7a3f",
   "metadata": {},
   "outputs": [],
   "source": [
    "#missing_values_descrete = [feature for feature in df_train.columns if df_train[feature].dtype != \"O\" and len(df_train[feature].unique()) <20 and df_train[feature].isnull().sum()>0]\n",
    "#missing_values_descrete"
   ]
  },
  {
   "cell_type": "code",
   "execution_count": 21,
   "id": "6e383c41",
   "metadata": {},
   "outputs": [
    {
     "data": {
      "text/plain": [
       "15"
      ]
     },
     "execution_count": 21,
     "metadata": {},
     "output_type": "execute_result"
    }
   ],
   "source": [
    "missing_values_descrete = []\n",
    "for feature in df_train.columns:\n",
    "    if df_train[feature].dtype != \"object\" and len(df_train[feature].unique()) <=20:\n",
    "        missing_values_descrete.append(feature)\n",
    "len(missing_values_descrete)        "
   ]
  },
  {
   "cell_type": "code",
   "execution_count": 22,
   "id": "1d33e121",
   "metadata": {},
   "outputs": [
    {
     "name": "stdout",
     "output_type": "stream",
     "text": [
      "MSSubClass 0.0\n",
      "OverallQual 0.0\n",
      "OverallCond 0.0\n",
      "BsmtFullBath 0.06999999999999999\n",
      "BsmtHalfBath 0.06999999999999999\n",
      "FullBath 0.0\n",
      "HalfBath 0.0\n",
      "BedroomAbvGr 0.0\n",
      "KitchenAbvGr 0.0\n",
      "TotRmsAbvGrd 0.0\n",
      "Fireplaces 0.0\n",
      "GarageCars 0.03\n",
      "PoolArea 0.0\n",
      "MoSold 0.0\n",
      "YrSold 0.0\n"
     ]
    }
   ],
   "source": [
    "for feature in missing_values_descrete:\n",
    "    print(feature, round(df_train[feature].isnull().mean(),4)*100)"
   ]
  },
  {
   "cell_type": "markdown",
   "id": "9e85133d",
   "metadata": {},
   "source": [
    "#### df_train[\"GarageCars\"].mode()[0]"
   ]
  },
  {
   "cell_type": "code",
   "execution_count": 23,
   "id": "7f965725",
   "metadata": {},
   "outputs": [],
   "source": [
    "for feature in missing_values_descrete:\n",
    "    mode_value = df_train[feature].mode()[0]\n",
    "    df_train[feature].fillna(mode_value,inplace=True)"
   ]
  },
  {
   "cell_type": "code",
   "execution_count": 24,
   "id": "dc7b7577",
   "metadata": {},
   "outputs": [
    {
     "name": "stdout",
     "output_type": "stream",
     "text": [
      "MSSubClass 0.0\n",
      "OverallQual 0.0\n",
      "OverallCond 0.0\n",
      "BsmtFullBath 0.0\n",
      "BsmtHalfBath 0.0\n",
      "FullBath 0.0\n",
      "HalfBath 0.0\n",
      "BedroomAbvGr 0.0\n",
      "KitchenAbvGr 0.0\n",
      "TotRmsAbvGrd 0.0\n",
      "Fireplaces 0.0\n",
      "GarageCars 0.0\n",
      "PoolArea 0.0\n",
      "MoSold 0.0\n",
      "YrSold 0.0\n"
     ]
    }
   ],
   "source": [
    "for feature in missing_values_descrete:\n",
    "    print(feature, round(df_train[feature].isnull().mean(),4)*100)"
   ]
  },
  {
   "cell_type": "markdown",
   "id": "85515f1d",
   "metadata": {},
   "source": [
    "### Handling categorical missing values"
   ]
  },
  {
   "cell_type": "code",
   "execution_count": 25,
   "id": "add69d65",
   "metadata": {
    "scrolled": false
   },
   "outputs": [],
   "source": [
    "#missing_values_c = [feature for feature in df_train.columns if df_train[feature].dtype == \"O\" and df_train[feature].isnull().sum()>0]\n",
    "#missing_values_c"
   ]
  },
  {
   "cell_type": "code",
   "execution_count": 26,
   "id": "1a4dd35e",
   "metadata": {},
   "outputs": [
    {
     "data": {
      "text/plain": [
       "23"
      ]
     },
     "execution_count": 26,
     "metadata": {},
     "output_type": "execute_result"
    }
   ],
   "source": [
    "missing_values_c = []\n",
    "for feature in df_train.columns:\n",
    "    if df_train[feature].dtype == \"O\" and df_train[feature].isnull().sum()>0:\n",
    "        missing_values_c.append(feature)\n",
    "len(missing_values_c)        "
   ]
  },
  {
   "cell_type": "code",
   "execution_count": 27,
   "id": "00dce7d0",
   "metadata": {},
   "outputs": [
    {
     "name": "stdout",
     "output_type": "stream",
     "text": [
      "MSZoning 0.13699999999999998\n",
      "Alley 93.217\n",
      "Utilities 0.06899999999999999\n",
      "Exterior1st 0.034\n",
      "Exterior2nd 0.034\n",
      "MasVnrType 0.822\n",
      "BsmtQual 2.775\n",
      "BsmtCond 2.809\n",
      "BsmtExposure 2.809\n",
      "BsmtFinType1 2.706\n",
      "BsmtFinType2 2.741\n",
      "Electrical 0.034\n",
      "KitchenQual 0.034\n",
      "Functional 0.06899999999999999\n",
      "FireplaceQu 48.647\n",
      "GarageType 5.379\n",
      "GarageFinish 5.447\n",
      "GarageQual 5.447\n",
      "GarageCond 5.447\n",
      "PoolQC 99.657\n",
      "Fence 80.43900000000001\n",
      "MiscFeature 96.403\n",
      "SaleType 0.034\n"
     ]
    }
   ],
   "source": [
    "for feature in missing_values_c:\n",
    "    print(feature, round(df_train[feature].isnull().mean(),5)*100)"
   ]
  },
  {
   "cell_type": "code",
   "execution_count": 28,
   "id": "1eeefd05",
   "metadata": {},
   "outputs": [],
   "source": [
    "for feature in missing_values_c:\n",
    "    mode_value = df_train[feature].mode()[0]\n",
    "    df_train[feature].fillna(mode_value,inplace=True)    \n",
    "df_train.drop([\"Alley\" ,\"PoolQC\", \"Fence\" , \"MiscFeature\"  , \"FireplaceQu\" ] , axis = 1 , inplace = True)"
   ]
  },
  {
   "cell_type": "code",
   "execution_count": 29,
   "id": "d6bf50c0",
   "metadata": {},
   "outputs": [
    {
     "data": {
      "text/plain": [
       "MSSubClass          0\n",
       "MSZoning            0\n",
       "LotFrontage         0\n",
       "LotArea             0\n",
       "Street              0\n",
       "                 ... \n",
       "MoSold              0\n",
       "YrSold              0\n",
       "SaleType            0\n",
       "SaleCondition       0\n",
       "SalePrice        1459\n",
       "Length: 75, dtype: int64"
      ]
     },
     "execution_count": 29,
     "metadata": {},
     "output_type": "execute_result"
    }
   ],
   "source": [
    "df_train.isnull().sum()"
   ]
  },
  {
   "cell_type": "code",
   "execution_count": null,
   "id": "22c8caa1",
   "metadata": {},
   "outputs": [],
   "source": [
    "df_train.shape"
   ]
  },
  {
   "cell_type": "code",
   "execution_count": null,
   "id": "f6d9ad60",
   "metadata": {},
   "outputs": [],
   "source": [
    "df_train.head()"
   ]
  },
  {
   "cell_type": "markdown",
   "id": "9a518d37",
   "metadata": {},
   "source": [
    "### Handling year feature"
   ]
  },
  {
   "cell_type": "code",
   "execution_count": null,
   "id": "bd3f96a7",
   "metadata": {},
   "outputs": [],
   "source": [
    "#year = [feature for feature in df_train.columns if \"Yr\" in feature or \"Year\" in feature] \n",
    "#year"
   ]
  },
  {
   "cell_type": "code",
   "execution_count": null,
   "id": "7ec637c4",
   "metadata": {},
   "outputs": [],
   "source": [
    "year = []\n",
    "for feature in df_train.columns:\n",
    "    if \"Yr\" in feature or \"Year\" in feature:\n",
    "        year.append(feature)\n",
    "year"
   ]
  },
  {
   "cell_type": "code",
   "execution_count": null,
   "id": "927a0f1b",
   "metadata": {},
   "outputs": [],
   "source": [
    "for feature in year:\n",
    "    print(feature, len(df_train[feature].unique()) , df_train[feature].dtype)"
   ]
  },
  {
   "cell_type": "code",
   "execution_count": null,
   "id": "1f2e4b33",
   "metadata": {},
   "outputs": [],
   "source": [
    "df_train[\"YrSold\"].value_counts()"
   ]
  },
  {
   "cell_type": "code",
   "execution_count": null,
   "id": "4c13144f",
   "metadata": {},
   "outputs": [],
   "source": [
    "df_train.groupby('YrSold')['SalePrice'].median().plot()   \n",
    "plt.xlabel('Year Sold')\n",
    "plt.ylabel('Median House Price')\n",
    "plt.title(\"House Price vs YearSold\")"
   ]
  },
  {
   "cell_type": "code",
   "execution_count": null,
   "id": "d0eb1848",
   "metadata": {},
   "outputs": [],
   "source": [
    "for feature in year:       \n",
    "    df_train[feature] = df_train['YrSold']-df_train[feature]\n",
    "df_train.drop(\"YrSold\", axis = 1 , inplace = True)"
   ]
  },
  {
   "cell_type": "code",
   "execution_count": null,
   "id": "197014a2",
   "metadata": {},
   "outputs": [],
   "source": [
    "df_train.shape"
   ]
  },
  {
   "cell_type": "code",
   "execution_count": null,
   "id": "bdb202d6",
   "metadata": {},
   "outputs": [],
   "source": [
    "df_train.head()"
   ]
  },
  {
   "cell_type": "markdown",
   "id": "1cdc9fcb",
   "metadata": {},
   "source": [
    "### Handling continious values"
   ]
  },
  {
   "cell_type": "code",
   "execution_count": null,
   "id": "0bf5f6b0",
   "metadata": {},
   "outputs": [],
   "source": [
    "#continious = [feature for feature in df_train.columns if len(df_train[feature].unique())>20 and df_train[feature].dtype != \"O\" and feature not in year]\n",
    "#continious"
   ]
  },
  {
   "cell_type": "code",
   "execution_count": null,
   "id": "bf055d76",
   "metadata": {},
   "outputs": [],
   "source": [
    "continious = []\n",
    "for feature in df_train.columns:\n",
    "     if df_train[feature].dtype != \"O\" and len(df_train[feature].unique())>20  and feature not in year:\n",
    "            continious.append(feature)\n",
    "continious         "
   ]
  },
  {
   "cell_type": "code",
   "execution_count": null,
   "id": "4bfcc0e8",
   "metadata": {},
   "outputs": [],
   "source": [
    "df_train[\"LotFrontage\"].skew()"
   ]
  },
  {
   "cell_type": "code",
   "execution_count": null,
   "id": "5c1263e0",
   "metadata": {
    "scrolled": false
   },
   "outputs": [],
   "source": [
    "## We will be using logarithmic transformation\n",
    "for feature in continious:\n",
    "    data = df_train.copy()\n",
    "    #data[feature]=np.log1p(data[feature])\n",
    "    ax = sns.distplot(data[feature])\n",
    "    ax.legend([\"skewness : {:0.3f}\".format(data[feature].skew())])\n",
    "    plt.xlabel(feature)\n",
    "    plt.ylabel('SalesPrice')\n",
    "    plt.title(feature)\n",
    "    plt.show() "
   ]
  },
  {
   "cell_type": "code",
   "execution_count": null,
   "id": "b470f2d7",
   "metadata": {},
   "outputs": [],
   "source": [
    "#skewed = [feature for feature in continious if data[feature].skew()<1]\n",
    "#skewed"
   ]
  },
  {
   "cell_type": "code",
   "execution_count": null,
   "id": "5c0285c4",
   "metadata": {},
   "outputs": [],
   "source": [
    "skewed = []\n",
    "for feature in continious:\n",
    "    if abs(df_train[feature].skew())>1:\n",
    "        skewed.append(feature)\n",
    "skewed        "
   ]
  },
  {
   "cell_type": "code",
   "execution_count": null,
   "id": "74ae32c5",
   "metadata": {},
   "outputs": [],
   "source": [
    "abs(-5)"
   ]
  },
  {
   "cell_type": "code",
   "execution_count": null,
   "id": "28b6bfb8",
   "metadata": {},
   "outputs": [],
   "source": [
    "for feature in continious:\n",
    "    if feature == \"SalePrice\":\n",
    "        pass\n",
    "    else:        \n",
    "        df_train[feature] = np.log1p(df_train[feature])"
   ]
  },
  {
   "cell_type": "code",
   "execution_count": null,
   "id": "f876dc00",
   "metadata": {},
   "outputs": [],
   "source": [
    "df_train.shape"
   ]
  },
  {
   "cell_type": "code",
   "execution_count": null,
   "id": "668ccc8f",
   "metadata": {},
   "outputs": [],
   "source": [
    "# correlation heatmap\n",
    "plt.figure(figsize=(25,25))\n",
    "ax = sns.heatmap(df_train[continious].corr(), cmap = \"coolwarm\", annot=True, linewidth=2)\n",
    "\n",
    "# to fix the bug \"first and last row cut in half of heatmap plot\"\n",
    "# bottom, top = ax.get_ylim()\n",
    "# ax.set_ylim(bottom + 0.5, top - 0.5)"
   ]
  },
  {
   "cell_type": "code",
   "execution_count": null,
   "id": "f787cd36",
   "metadata": {},
   "outputs": [],
   "source": [
    "# correlation heatmap of higly correlated features with SalePrice\n",
    "low_corr = df_train[continious].corr()\n",
    "low_corr_features = low_corr.index[low_corr[\"SalePrice\"] < 0.10]\n",
    "low_corr_features"
   ]
  },
  {
   "cell_type": "code",
   "execution_count": null,
   "id": "92df2234",
   "metadata": {},
   "outputs": [],
   "source": [
    "df_train.drop(low_corr_features , axis = 1 , inplace = True)"
   ]
  },
  {
   "cell_type": "code",
   "execution_count": null,
   "id": "f9d83a8b",
   "metadata": {},
   "outputs": [],
   "source": [
    "df_train.shape"
   ]
  },
  {
   "cell_type": "markdown",
   "id": "cf6f120c",
   "metadata": {},
   "source": [
    "### Handling categorical variables"
   ]
  },
  {
   "cell_type": "code",
   "execution_count": null,
   "id": "86dfbb6d",
   "metadata": {},
   "outputs": [],
   "source": [
    "#categorical = [feature for feature in df_train.columns if df_train[feature].dtype == \"O\"]\n",
    "#len(categorical)"
   ]
  },
  {
   "cell_type": "code",
   "execution_count": null,
   "id": "d0b294e9",
   "metadata": {},
   "outputs": [],
   "source": [
    "categorical = []\n",
    "for feature in df_train.columns:\n",
    "    if df_train[feature].dtype == \"object\":\n",
    "        categorical.append(feature)\n",
    "len(categorical)"
   ]
  },
  {
   "cell_type": "code",
   "execution_count": null,
   "id": "5e6bc1d3",
   "metadata": {
    "scrolled": false
   },
   "outputs": [],
   "source": [
    "for feature in categorical:\n",
    "    #df_train.groupby(feature)['SalePrice'].median().plot.bar()\n",
    "    sns.barplot(x = df_train[feature] , y = df_train[\"SalePrice\"])\n",
    "    plt.xlabel(feature)\n",
    "    plt.ylabel('SalePrice')\n",
    "    plt.title(feature)\n",
    "    plt.show()"
   ]
  },
  {
   "cell_type": "markdown",
   "id": "fef72c05",
   "metadata": {},
   "source": [
    "**ORDINAL**"
   ]
  },
  {
   "cell_type": "code",
   "execution_count": null,
   "id": "a5dd2aa3",
   "metadata": {},
   "outputs": [],
   "source": [
    "from pandas.api.types import CategoricalDtype"
   ]
  },
  {
   "cell_type": "code",
   "execution_count": null,
   "id": "64d80f53",
   "metadata": {},
   "outputs": [],
   "source": [
    "df_train['BsmtCond'].unique() ## cardinality of categorical variables"
   ]
  },
  {
   "cell_type": "code",
   "execution_count": null,
   "id": "cb077eed",
   "metadata": {},
   "outputs": [],
   "source": [
    "df_train['BsmtCond'].value_counts()"
   ]
  },
  {
   "cell_type": "code",
   "execution_count": null,
   "id": "1d75ac7c",
   "metadata": {},
   "outputs": [],
   "source": [
    "df_train['BsmtCond'] = df_train['BsmtCond'].astype(CategoricalDtype(categories=['TA', 'Gd', 'Fa', 'Po'], ordered = True)).cat.codes"
   ]
  },
  {
   "cell_type": "code",
   "execution_count": null,
   "id": "bacaf7e2",
   "metadata": {
    "scrolled": true
   },
   "outputs": [],
   "source": [
    "df_train['BsmtCond'].value_counts()"
   ]
  },
  {
   "cell_type": "code",
   "execution_count": null,
   "id": "243df089",
   "metadata": {},
   "outputs": [],
   "source": [
    "df_train['BsmtExposure'] = df_train['BsmtExposure'].astype(CategoricalDtype(categories=['NA', 'Mn', 'Av', 'Gd'], ordered = True)).cat.codes\n",
    "df_train['BsmtFinType1'] = df_train['BsmtFinType1'].astype(CategoricalDtype(categories=['NA', 'Unf', 'LwQ', 'Rec', 'BLQ','ALQ', 'GLQ'], ordered = True)).cat.codes\n",
    "df_train['BsmtFinType2'] = df_train['BsmtFinType2'].astype(CategoricalDtype(categories=['NA', 'Unf', 'LwQ', 'Rec', 'BLQ','ALQ', 'GLQ'], ordered = True)).cat.codes\n",
    "df_train['BsmtQual'] = df_train['BsmtQual'].astype(CategoricalDtype(categories=['NA', 'Po', 'Fa', 'TA', 'Gd', 'Ex'], ordered = True)).cat.codes\n",
    "df_train['ExterQual'] = df_train['ExterQual'].astype(CategoricalDtype(categories=['Po', 'Fa', 'TA', 'Gd', 'Ex'], ordered = True)).cat.codes\n",
    "df_train['ExterCond'] = df_train['ExterCond'].astype(CategoricalDtype(categories=['Po', 'Fa', 'TA', 'Gd', 'Ex'], ordered = True)).cat.codes\n",
    "df_train['Functional'] = df_train['Functional'].astype(CategoricalDtype(categories=['Sal', 'Sev', 'Maj2', 'Maj1', 'Mod','Min2','Min1', 'Typ'], ordered = True)).cat.codes\n",
    "df_train['GarageCond'] = df_train['GarageCond'].astype(CategoricalDtype(categories=['NA', 'Po', 'Fa', 'TA', 'Gd', 'Ex'], ordered = True)).cat.codes\n",
    "df_train['GarageQual'] = df_train['GarageQual'].astype(CategoricalDtype(categories=['NA', 'Po', 'Fa', 'TA', 'Gd', 'Ex'], ordered = True)).cat.codes\n",
    "df_train['GarageFinish'] = df_train['GarageFinish'].astype(CategoricalDtype(categories=['NA', 'Unf', 'RFn', 'Fin'], ordered = True)).cat.codes\n",
    "df_train['HeatingQC'] = df_train['HeatingQC'].astype(CategoricalDtype(categories=['Po', 'Fa', 'TA', 'Gd', 'Ex'], ordered = True)).cat.codes\n",
    "df_train['KitchenQual'] = df_train['KitchenQual'].astype(CategoricalDtype(categories=['Po', 'Fa', 'TA', 'Gd', 'Ex'], ordered = True)).cat.codes\n",
    "df_train['PavedDrive'] = df_train['PavedDrive'].astype(CategoricalDtype(categories=['N', 'P', 'Y'], ordered = True)).cat.codes\n",
    "df_train['Utilities'] = df_train['Utilities'].astype(CategoricalDtype(categories=['ELO', 'NASeWa', 'NASeWr', 'AllPub'], ordered = True)).cat.codes"
   ]
  },
  {
   "cell_type": "code",
   "execution_count": null,
   "id": "0ab992d8",
   "metadata": {},
   "outputs": [],
   "source": [
    "ordinal = [\"BsmtCond\" , \"BsmtExposure\" , \"BsmtFinType1\" , \"BsmtFinType2\" , \"BsmtQual\" , \"ExterQual\" , \"ExterCond\" , \"Functional\",\n",
    "          \"GarageCond\" , \"GarageQual\" , \"GarageFinish\" , \"HeatingQC\" , \"KitchenQual\" , \"PavedDrive\" , \"Utilities\"]"
   ]
  },
  {
   "cell_type": "code",
   "execution_count": null,
   "id": "7635b219",
   "metadata": {},
   "outputs": [],
   "source": [
    "len(ordinal)"
   ]
  },
  {
   "cell_type": "code",
   "execution_count": null,
   "id": "02f2205a",
   "metadata": {},
   "outputs": [],
   "source": [
    "df_train.shape"
   ]
  },
  {
   "cell_type": "code",
   "execution_count": null,
   "id": "8de8434f",
   "metadata": {},
   "outputs": [],
   "source": [
    "df_train.head()"
   ]
  },
  {
   "cell_type": "markdown",
   "id": "a5afec3e",
   "metadata": {},
   "source": [
    "**Nominal**"
   ]
  },
  {
   "cell_type": "markdown",
   "id": "6cdd17ea",
   "metadata": {},
   "source": [
    "* **One hot encoding**"
   ]
  },
  {
   "cell_type": "code",
   "execution_count": null,
   "id": "ae3741e9",
   "metadata": {},
   "outputs": [],
   "source": [
    "#nominal = [feature for feature in categorical if feature not in ordinal ]"
   ]
  },
  {
   "cell_type": "code",
   "execution_count": null,
   "id": "4009667c",
   "metadata": {},
   "outputs": [],
   "source": [
    "nominal = []\n",
    "for feature in categorical:\n",
    "    if feature not in ordinal:\n",
    "        nominal.append(feature)\n",
    "len(nominal)"
   ]
  },
  {
   "cell_type": "code",
   "execution_count": null,
   "id": "91e258db",
   "metadata": {},
   "outputs": [],
   "source": [
    "#nominal = [feature for feature in categorical if feature not in ordinal]\n",
    "for feature in nominal:\n",
    "    print(feature , len(df_train[feature].unique()))"
   ]
  },
  {
   "cell_type": "code",
   "execution_count": null,
   "id": "1470140c",
   "metadata": {},
   "outputs": [],
   "source": [
    "new_nominal = [\"Neighborhood\" , \"Exterior1st\" , \"Exterior2nd\"]\n",
    "#nominal1 = [feature for feature in nominal if feature not in new_nominal]"
   ]
  },
  {
   "cell_type": "code",
   "execution_count": null,
   "id": "b69cd036",
   "metadata": {},
   "outputs": [],
   "source": [
    "nominal1 = []\n",
    "for feature in nominal:\n",
    "    if feature not in new_nominal:\n",
    "        nominal1.append(feature)\n",
    "nominal1       "
   ]
  },
  {
   "cell_type": "code",
   "execution_count": null,
   "id": "8c1b36ca",
   "metadata": {},
   "outputs": [],
   "source": [
    "len(nominal1)"
   ]
  },
  {
   "cell_type": "code",
   "execution_count": null,
   "id": "661451fe",
   "metadata": {
    "scrolled": true
   },
   "outputs": [],
   "source": [
    "len(nominal)"
   ]
  },
  {
   "cell_type": "code",
   "execution_count": null,
   "id": "d033150a",
   "metadata": {},
   "outputs": [],
   "source": [
    "nominal_variable = pd.get_dummies(df_train[nominal1], drop_first=True)\n",
    "#nominal_variable.drop(new_nominal , axis = 1 , inplace = True)"
   ]
  },
  {
   "cell_type": "code",
   "execution_count": null,
   "id": "2f1c71fb",
   "metadata": {},
   "outputs": [],
   "source": [
    "nominal_variable.shape"
   ]
  },
  {
   "cell_type": "code",
   "execution_count": null,
   "id": "73381567",
   "metadata": {},
   "outputs": [],
   "source": [
    "nominal_variable.head()"
   ]
  },
  {
   "cell_type": "markdown",
   "id": "f30b7a97",
   "metadata": {},
   "source": [
    "* **One hot encoding with many variables**"
   ]
  },
  {
   "cell_type": "code",
   "execution_count": null,
   "id": "3894f5ce",
   "metadata": {},
   "outputs": [],
   "source": [
    "df_train[\"Neighborhood\"].value_counts()"
   ]
  },
  {
   "cell_type": "code",
   "execution_count": null,
   "id": "67ea8ac0",
   "metadata": {},
   "outputs": [],
   "source": [
    "def top_ten(feature):\n",
    "    top_ten = []\n",
    "    for x in feature.value_counts().sort_values(ascending = False).head(10).index:\n",
    "        top_ten.append(x)\n",
    "    return top_ten       "
   ]
  },
  {
   "cell_type": "code",
   "execution_count": null,
   "id": "c2b0aec0",
   "metadata": {},
   "outputs": [],
   "source": [
    "top_ten(df_train[\"Neighborhood\"])"
   ]
  },
  {
   "cell_type": "code",
   "execution_count": null,
   "id": "c55ed226",
   "metadata": {},
   "outputs": [],
   "source": [
    "top_10_Neighborhood = top_ten(df_train[\"Neighborhood\"])\n",
    "top_10_Exterior1st =  top_ten(df_train[\"Exterior1st\"])\n",
    "top_10_Exterior2nd =  top_ten(df_train[\"Exterior2nd\"])"
   ]
  },
  {
   "cell_type": "code",
   "execution_count": null,
   "id": "f88f38ff",
   "metadata": {},
   "outputs": [],
   "source": [
    "df_train[\"Exterior1st\"].unique()"
   ]
  },
  {
   "cell_type": "code",
   "execution_count": null,
   "id": "5a8ff1bf",
   "metadata": {
    "scrolled": true
   },
   "outputs": [],
   "source": [
    "df_train[\"Exterior2nd\"].unique()"
   ]
  },
  {
   "cell_type": "code",
   "execution_count": null,
   "id": "c96d7d61",
   "metadata": {},
   "outputs": [],
   "source": [
    "for label in top_10_Neighborhood:\n",
    "    print(label)"
   ]
  },
  {
   "cell_type": "code",
   "execution_count": null,
   "id": "4ad7c537",
   "metadata": {},
   "outputs": [],
   "source": [
    "#top_10_Neighborhood = [x for x in df_train.Neighborhood.value_counts().sort_values(ascending=False).head(10).index]\n",
    "#top_10_Exterior1st = [x for x in df_train.Exterior1st.value_counts().sort_values(ascending=False).head(10).index]\n",
    "#top_10_Exterior2nd = [x for x in df_train.Exterior2nd.value_counts().sort_values(ascending=False).head(10).index]\n",
    "\n",
    "\n",
    "for i in top_10_Neighborhood:\n",
    "    df_train[i]= np.where(df_train[\"Neighborhood\"]== i,1,0) \n",
    "    \n",
    "for label in top_10_Exterior1st:\n",
    "    df_train[label]= np.where(df_train[\"Exterior1st\"]==label,1,0)\n",
    "    \n",
    "#for label in top_10_Exterior2nd:a\n",
    "    #df_train[label]= np.where(df_train[\"Exterior2nd\"]==label,1,0)\n",
    "    \n",
    "#df_train[top_10_Exterior2nd].head()"
   ]
  },
  {
   "cell_type": "code",
   "execution_count": null,
   "id": "3f19e1b6",
   "metadata": {},
   "outputs": [],
   "source": [
    "df_train[top_10_Exterior1st].head()"
   ]
  },
  {
   "cell_type": "code",
   "execution_count": null,
   "id": "567c8319",
   "metadata": {},
   "outputs": [],
   "source": [
    "df_train.head()"
   ]
  },
  {
   "cell_type": "code",
   "execution_count": null,
   "id": "33d7c4a5",
   "metadata": {},
   "outputs": [],
   "source": [
    "df_train.drop(nominal , axis = 1 , inplace = True)"
   ]
  },
  {
   "cell_type": "code",
   "execution_count": null,
   "id": "b56976e9",
   "metadata": {
    "scrolled": false
   },
   "outputs": [],
   "source": [
    "df_train.head()"
   ]
  },
  {
   "cell_type": "code",
   "execution_count": null,
   "id": "d08f8391",
   "metadata": {},
   "outputs": [],
   "source": [
    "df_train.shape"
   ]
  },
  {
   "cell_type": "code",
   "execution_count": null,
   "id": "88c8f05f",
   "metadata": {},
   "outputs": [],
   "source": [
    "train = pd.concat([nominal_variable , df_train] , axis = 1)"
   ]
  },
  {
   "cell_type": "code",
   "execution_count": null,
   "id": "5bf98549",
   "metadata": {},
   "outputs": [],
   "source": [
    "train.shape"
   ]
  },
  {
   "cell_type": "code",
   "execution_count": null,
   "id": "2ea95f22",
   "metadata": {
    "scrolled": true
   },
   "outputs": [],
   "source": [
    "train.head()"
   ]
  },
  {
   "cell_type": "code",
   "execution_count": null,
   "id": "d22428ff",
   "metadata": {},
   "outputs": [],
   "source": [
    "train.columns.duplicated()"
   ]
  },
  {
   "cell_type": "code",
   "execution_count": null,
   "id": "9889283a",
   "metadata": {},
   "outputs": [],
   "source": [
    "#preview the df\n",
    "#train =  train.loc[:,~ train.columns.duplicated()]\n",
    "#train.shape"
   ]
  },
  {
   "cell_type": "code",
   "execution_count": null,
   "id": "ff30ff7b",
   "metadata": {},
   "outputs": [],
   "source": [
    "train.isnull().sum().sum()"
   ]
  },
  {
   "cell_type": "markdown",
   "id": "4f741926",
   "metadata": {},
   "source": [
    "### split data into test and train"
   ]
  },
  {
   "cell_type": "code",
   "execution_count": null,
   "id": "c7708a7a",
   "metadata": {},
   "outputs": [],
   "source": [
    "train_df = train.iloc[:1460, :]\n",
    "test1 = train.iloc[1460: , :]\n",
    "\n",
    "print(train_df.shape)\n",
    "print(test1.shape)\n",
    "#print(len(y_train))"
   ]
  },
  {
   "cell_type": "code",
   "execution_count": null,
   "id": "62f130f9",
   "metadata": {},
   "outputs": [],
   "source": [
    "test1['SalePrice']"
   ]
  },
  {
   "cell_type": "code",
   "execution_count": null,
   "id": "bd560348",
   "metadata": {},
   "outputs": [],
   "source": [
    "test = test1.drop(\"SalePrice\" , axis = 1)"
   ]
  },
  {
   "cell_type": "code",
   "execution_count": null,
   "id": "e1a010d7",
   "metadata": {},
   "outputs": [],
   "source": [
    "X = train_df.drop(\"SalePrice\" , axis = 1)\n",
    "y = train_df[\"SalePrice\"]"
   ]
  },
  {
   "cell_type": "code",
   "execution_count": null,
   "id": "71bb9370",
   "metadata": {
    "scrolled": false
   },
   "outputs": [],
   "source": [
    "X.shape"
   ]
  },
  {
   "cell_type": "code",
   "execution_count": null,
   "id": "a5a1ea0f",
   "metadata": {},
   "outputs": [],
   "source": [
    "y"
   ]
  },
  {
   "cell_type": "markdown",
   "id": "a46c80da",
   "metadata": {},
   "source": [
    "## Feature Selection"
   ]
  },
  {
   "cell_type": "code",
   "execution_count": null,
   "id": "841a2200",
   "metadata": {},
   "outputs": [],
   "source": [
    "from sklearn.ensemble import ExtraTreesRegressor\n",
    "model = ExtraTreesRegressor()\n",
    "model.fit(X,y)"
   ]
  },
  {
   "cell_type": "code",
   "execution_count": null,
   "id": "8e2c06f2",
   "metadata": {},
   "outputs": [],
   "source": [
    "print(model.feature_importances_)"
   ]
  },
  {
   "cell_type": "code",
   "execution_count": null,
   "id": "32d996e9",
   "metadata": {},
   "outputs": [],
   "source": [
    "X.columns"
   ]
  },
  {
   "cell_type": "code",
   "execution_count": null,
   "id": "8d974124",
   "metadata": {},
   "outputs": [],
   "source": [
    "plt.figure(figsize = (16 , 7))\n",
    "ranked_features =  pd.Series(model.feature_importances_, index = X.columns)\n",
    "ranked_features.nlargest(40).plot(kind='barh')\n",
    "plt.show()"
   ]
  },
  {
   "cell_type": "code",
   "execution_count": null,
   "id": "21caeed3",
   "metadata": {},
   "outputs": [],
   "source": [
    "features = ranked_features.nlargest(23)"
   ]
  },
  {
   "cell_type": "code",
   "execution_count": null,
   "id": "f3489b5e",
   "metadata": {},
   "outputs": [],
   "source": [
    "features.index"
   ]
  },
  {
   "cell_type": "code",
   "execution_count": null,
   "id": "bc9ad64e",
   "metadata": {},
   "outputs": [],
   "source": [
    "X = train_df[features.index]"
   ]
  },
  {
   "cell_type": "code",
   "execution_count": null,
   "id": "1bafc411",
   "metadata": {},
   "outputs": [],
   "source": [
    "X.shape"
   ]
  },
  {
   "cell_type": "code",
   "execution_count": null,
   "id": "6b66da9c",
   "metadata": {},
   "outputs": [],
   "source": [
    "X.head()"
   ]
  },
  {
   "cell_type": "markdown",
   "id": "1eb7d063",
   "metadata": {},
   "source": [
    "## Model Building"
   ]
  },
  {
   "cell_type": "code",
   "execution_count": null,
   "id": "5e8901c1",
   "metadata": {},
   "outputs": [],
   "source": [
    "# split dataset into train and test\n",
    "from sklearn.model_selection import train_test_split \n",
    "X_train, X_test, y_train, y_test = train_test_split(X, y, test_size = 0.2, random_state = 5)"
   ]
  },
  {
   "cell_type": "markdown",
   "id": "017ac7f2",
   "metadata": {},
   "source": [
    "### Robost scaller"
   ]
  },
  {
   "cell_type": "code",
   "execution_count": null,
   "id": "ba060ef5",
   "metadata": {
    "scrolled": true
   },
   "outputs": [],
   "source": [
    "test1 = test[features.index]"
   ]
  },
  {
   "cell_type": "code",
   "execution_count": null,
   "id": "c886b107",
   "metadata": {},
   "outputs": [],
   "source": [
    "test1.shape"
   ]
  },
  {
   "cell_type": "code",
   "execution_count": null,
   "id": "ec57e92e",
   "metadata": {},
   "outputs": [],
   "source": [
    "# scaling dataset with robust scaler\n",
    "from sklearn.preprocessing import RobustScaler\n",
    "scaler = RobustScaler()\n",
    "X_train = scaler.fit_transform(X_train)\n",
    "X_test = scaler.transform(X_test)\n",
    "test1 = scaler.transform(test1)"
   ]
  },
  {
   "cell_type": "code",
   "execution_count": null,
   "id": "e972b023",
   "metadata": {},
   "outputs": [],
   "source": [
    "X_train"
   ]
  },
  {
   "cell_type": "markdown",
   "id": "a2840bd8",
   "metadata": {},
   "source": [
    "### Linear Regression"
   ]
  },
  {
   "cell_type": "code",
   "execution_count": null,
   "id": "5e0fb700",
   "metadata": {},
   "outputs": [],
   "source": [
    "from sklearn.linear_model import LinearRegression\n",
    "from sklearn.metrics import mean_squared_error # for calculating mean_squared error\n",
    "from sklearn.metrics import r2_score # for measering the goodness of best fit line\n",
    "\n",
    "reg = LinearRegression()\n",
    "reg.fit(X_train , y_train)\n",
    "\n",
    "y_pred = reg.predict(X_test)\n",
    "rmse = np.sqrt(mean_squared_error(y_test , y_pred))\n",
    "\n",
    "score=r2_score(y_test,y_pred)\n",
    "print(f\"value of R^2 is {score}\")\n",
    "print(f\"rmse value is {rmse}\")"
   ]
  },
  {
   "cell_type": "code",
   "execution_count": null,
   "id": "d316d00a",
   "metadata": {},
   "outputs": [],
   "source": [
    "from sklearn.tree import DecisionTreeRegressor\n",
    "model = DecisionTreeRegressor()\n",
    "model.fit(X_train , y_train)\n",
    "\n",
    "prediction = model.predict(X_test)\n",
    "\n",
    "score = r2_score(y_test , prediction)\n",
    "print(score)"
   ]
  },
  {
   "cell_type": "markdown",
   "id": "4da9505e",
   "metadata": {},
   "source": [
    "### Random Forest"
   ]
  },
  {
   "cell_type": "code",
   "execution_count": null,
   "id": "4ba4e63d",
   "metadata": {},
   "outputs": [],
   "source": [
    "# Random Forest Classifier\n",
    "from sklearn.ensemble import RandomForestRegressor\n",
    "\n",
    "rf = RandomForestRegressor()\n",
    "rf.fit(X_train, y_train)\n",
    "\n",
    "y_pred_rf = rf.predict(X_test)\n",
    "score_rf = r2_score(y_test,y_pred_rf)\n",
    "rmse = np.sqrt(mean_squared_error(y_test , y_pred_rf))\n",
    "\n",
    "\n",
    "print(f\"value of R^2 is {score_rf}\")\n",
    "print(f\"rmse value is {rmse}\")"
   ]
  },
  {
   "cell_type": "code",
   "execution_count": null,
   "id": "27017b5b",
   "metadata": {},
   "outputs": [],
   "source": [
    "from sklearn.model_selection import cross_val_score\n",
    "cross_validation = cross_val_score(estimator =rf, X = X_train,y = y_train, cv = 10)\n",
    "print(\"Cross validation accuracy of random forest model = \", cross_validation)\n",
    "print(\"\\nCross validation mean accuracy of random forest model = \", cross_validation.mean())"
   ]
  },
  {
   "cell_type": "markdown",
   "id": "21fe9a6e",
   "metadata": {},
   "source": [
    "### Xgboost"
   ]
  },
  {
   "cell_type": "code",
   "execution_count": null,
   "id": "4b147d00",
   "metadata": {},
   "outputs": [],
   "source": [
    "import xgboost\n",
    "xgb_model = xgboost.XGBRegressor()\n",
    "xgb_model.fit(X_train,y_train)\n",
    "\n",
    "\n",
    "y_pred_xg = xgb_model.predict(X_test)\n",
    "score_xg=r2_score(y_test,y_pred_xg)\n",
    "rmse = np.sqrt(mean_squared_error(y_test , y_pred_xg))\n",
    "\n",
    "\n",
    "print(f\"value of R^2 is {score_xg}\")\n",
    "print(f\"rmse value is {rmse}\")"
   ]
  },
  {
   "cell_type": "code",
   "execution_count": null,
   "id": "4733165e",
   "metadata": {},
   "outputs": [],
   "source": [
    "from sklearn.model_selection import cross_val_score\n",
    "cross_validation = cross_val_score(estimator = xgb_model, X = X_train,y = y_train, cv = 10)\n",
    "print(\"Cross validation accuracy of xgboost model = \", cross_validation)\n",
    "print(\"\\nCross validation mean accuracy of xgboost model = \", cross_validation.mean())"
   ]
  },
  {
   "cell_type": "code",
   "execution_count": null,
   "id": "6b1fa2bc",
   "metadata": {},
   "outputs": [],
   "source": [
    "y_pred_hyper = xgb_model.predict(test1)\n",
    "y_pred_hyper"
   ]
  },
  {
   "cell_type": "code",
   "execution_count": null,
   "id": "4745ddcd",
   "metadata": {},
   "outputs": [],
   "source": [
    "df = pd.read_csv(\"test.csv\" , usecols = [\"Id\"])"
   ]
  },
  {
   "cell_type": "code",
   "execution_count": null,
   "id": "05d5d8f8",
   "metadata": {},
   "outputs": [],
   "source": [
    "df.head()"
   ]
  },
  {
   "cell_type": "code",
   "execution_count": null,
   "id": "8c742bd3",
   "metadata": {},
   "outputs": [],
   "source": [
    "submit_test1 = pd.concat([df[\"Id\"], pd.DataFrame(y_pred_hyper)], axis=1)\n",
    "submit_test1.columns=['Id', 'SalePrice']"
   ]
  },
  {
   "cell_type": "code",
   "execution_count": null,
   "id": "5a30de4d",
   "metadata": {},
   "outputs": [],
   "source": [
    "submit_test1.head(20)"
   ]
  },
  {
   "cell_type": "code",
   "execution_count": null,
   "id": "0f93ba57",
   "metadata": {},
   "outputs": [],
   "source": [
    "submit_test1.info()"
   ]
  },
  {
   "cell_type": "code",
   "execution_count": null,
   "id": "6b90bd8f",
   "metadata": {},
   "outputs": [],
   "source": [
    "#submit_test1 = submit_test1.astype({'Id': 'int', 'SalePrice': 'float'})"
   ]
  },
  {
   "cell_type": "code",
   "execution_count": null,
   "id": "27456adf",
   "metadata": {},
   "outputs": [],
   "source": [
    "submit_test1.to_csv('sample_submission.csv', index=False)"
   ]
  },
  {
   "cell_type": "code",
   "execution_count": null,
   "id": "6c45cf63",
   "metadata": {},
   "outputs": [],
   "source": [
    "#df = pd.read_csv(\"sample_submission.csv\")\n",
    "#df"
   ]
  },
  {
   "cell_type": "markdown",
   "id": "a8ca3f56",
   "metadata": {},
   "source": [
    "### Hyper parameter tuning"
   ]
  },
  {
   "cell_type": "code",
   "execution_count": null,
   "id": "bb61c21c",
   "metadata": {},
   "outputs": [],
   "source": [
    "## Hyperparameter optimization using RandomizedSearchCV\n",
    "from sklearn.model_selection import RandomizedSearchCV , GridSearchCV"
   ]
  },
  {
   "cell_type": "code",
   "execution_count": null,
   "id": "7a1842f0",
   "metadata": {},
   "outputs": [],
   "source": [
    "#Randomized Search CV\n",
    "\n",
    "# Number of trees in random forest\n",
    "n_estimators = [int(x) for x in np.linspace(start = 100, stop = 1200, num = 12)]\n",
    "# Number of features to consider at every split\n",
    "\n",
    "#criterion = [\"squared_error\" , \"absolute_error\" , \"poisson\"]\n",
    "\n",
    "max_features = ['auto', 'sqrt', \"log2\"]\n",
    "# Maximum number of levels in tree\n",
    "max_depth = [int(x) for x in np.linspace(5, 30, num = 6)]\n",
    "# Minimum number of samples required to split a node\n",
    "min_samples_split = [2, 5, 10, 15, 100]\n",
    "# Minimum number of samples required at each leaf node\n",
    "min_samples_leaf = [1, 2, 5, 10]"
   ]
  },
  {
   "cell_type": "code",
   "execution_count": null,
   "id": "a5735a73",
   "metadata": {},
   "outputs": [],
   "source": [
    "# Create the random grid\n",
    "\n",
    "random_grid = {'n_estimators': n_estimators,\n",
    "               #'criterion' : criterion,\n",
    "               'max_features': max_features,\n",
    "               'max_depth': max_depth,\n",
    "               'min_samples_split': min_samples_split,\n",
    "               'min_samples_leaf': min_samples_leaf}"
   ]
  },
  {
   "cell_type": "code",
   "execution_count": null,
   "id": "d7cc1070",
   "metadata": {},
   "outputs": [],
   "source": [
    "rf_random = RandomizedSearchCV(estimator = rf, param_distributions = random_grid, n_iter = 10, cv = 5, verbose=2, n_jobs = -1 , random_state = 5)"
   ]
  },
  {
   "cell_type": "code",
   "execution_count": null,
   "id": "532f2a1e",
   "metadata": {
    "scrolled": true
   },
   "outputs": [],
   "source": [
    "rf_random.fit(X_train,y_train)"
   ]
  },
  {
   "cell_type": "code",
   "execution_count": null,
   "id": "705b7130",
   "metadata": {},
   "outputs": [],
   "source": [
    "rf_random.best_params_"
   ]
  },
  {
   "cell_type": "code",
   "execution_count": null,
   "id": "8d540490",
   "metadata": {},
   "outputs": [],
   "source": [
    "prediction = rf_random.predict(X_test)\n",
    "score_rf=r2_score(y_test,prediction)\n",
    "\n",
    "\n",
    "print(f\"value of R^2 is {score_rf}\")\n",
    "print('RMSE:', np.sqrt(mean_squared_error(y_test, prediction)))"
   ]
  },
  {
   "cell_type": "code",
   "execution_count": null,
   "id": "2754d2d4",
   "metadata": {},
   "outputs": [],
   "source": [
    "y_pred_hyper = rf_random.predict(test1)\n",
    "y_pred_hyper"
   ]
  },
  {
   "cell_type": "markdown",
   "id": "6eff7819",
   "metadata": {},
   "source": [
    "### Hyper parameter tuning with Xgboost"
   ]
  },
  {
   "cell_type": "code",
   "execution_count": null,
   "id": "f777bde0",
   "metadata": {},
   "outputs": [],
   "source": [
    "params = {\n",
    " \"learning_rate\"    : [0.05, 0.10, 0.15, 0.20, 0.25, 0.30 ] ,\n",
    " \"max_depth\"        : [ 3, 4, 5, 6, 8, 10, 12, 15],\n",
    " \"min_child_weight\" : [ 1, 3, 5, 7 ],\n",
    " \"gamma\"            : [ 0.0, 0.1, 0.2 , 0.3, 0.4 ],\n",
    " \"colsample_bytree\" : [ 0.3, 0.4, 0.5 , 0.7 ]\n",
    "    \n",
    "}"
   ]
  },
  {
   "cell_type": "code",
   "execution_count": null,
   "id": "477e9a98",
   "metadata": {},
   "outputs": [],
   "source": [
    "xgb = RandomizedSearchCV(xgb_model,param_distributions=params,n_iter=10,scoring='r2',n_jobs=-1,cv=5,verbose=3)"
   ]
  },
  {
   "cell_type": "code",
   "execution_count": null,
   "id": "091f5c05",
   "metadata": {},
   "outputs": [],
   "source": [
    "xgb.fit(X_train , y_train)\n",
    "y_pred = xgb.predict(test1)\n",
    "y_pred"
   ]
  },
  {
   "cell_type": "code",
   "execution_count": null,
   "id": "2e98c695",
   "metadata": {},
   "outputs": [],
   "source": [
    "prediction = xgb.predict(X_test)\n",
    "score_rf=r2_score(y_test,prediction)\n",
    "\n",
    "\n",
    "print(f\"value of R^2 is {score_rf}\")\n",
    "print('RMSE:', np.sqrt(mean_squared_error(y_test, prediction)))"
   ]
  },
  {
   "cell_type": "code",
   "execution_count": null,
   "id": "1dd4f274",
   "metadata": {},
   "outputs": [],
   "source": [
    "df = pd.read_csv(\"test.csv\" , usecols = [\"Id\"])\n",
    "submit_test1 = pd.concat([df[\"Id\"], pd.DataFrame(y_pred)], axis=1)\n",
    "submit_test1.columns=['Id', 'SalePrice']"
   ]
  },
  {
   "cell_type": "code",
   "execution_count": null,
   "id": "aa7d32eb",
   "metadata": {},
   "outputs": [],
   "source": [
    "# submit_test1 = submit_test1.astype({'Id': 'int', 'SalePrice': 'float'})\n",
    "submit_test1.to_csv('sample_submission.csv', index=False)"
   ]
  },
  {
   "cell_type": "code",
   "execution_count": null,
   "id": "d7fac07c",
   "metadata": {},
   "outputs": [],
   "source": [
    "submit_test1"
   ]
  },
  {
   "cell_type": "code",
   "execution_count": null,
   "id": "9a8986fc",
   "metadata": {},
   "outputs": [],
   "source": []
  },
  {
   "cell_type": "code",
   "execution_count": null,
   "id": "c67fa224",
   "metadata": {},
   "outputs": [],
   "source": []
  }
 ],
 "metadata": {
  "kernelspec": {
   "display_name": "Python 3 (ipykernel)",
   "language": "python",
   "name": "python3"
  },
  "language_info": {
   "codemirror_mode": {
    "name": "ipython",
    "version": 3
   },
   "file_extension": ".py",
   "mimetype": "text/x-python",
   "name": "python",
   "nbconvert_exporter": "python",
   "pygments_lexer": "ipython3",
   "version": "3.9.12"
  }
 },
 "nbformat": 4,
 "nbformat_minor": 5
}
